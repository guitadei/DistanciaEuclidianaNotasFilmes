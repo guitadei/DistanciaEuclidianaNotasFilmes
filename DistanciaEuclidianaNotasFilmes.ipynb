{
  "nbformat": 4,
  "nbformat_minor": 0,
  "metadata": {
    "colab": {
      "provenance": []
    },
    "kernelspec": {
      "name": "python3",
      "display_name": "Python 3"
    },
    "language_info": {
      "name": "python"
    }
  },
  "cells": [
    {
      "cell_type": "code",
      "execution_count": 2,
      "metadata": {
        "colab": {
          "base_uri": "https://localhost:8080/"
        },
        "id": "GUYEL6l1vbhk",
        "outputId": "99fd1c07-ea4a-4246-e058-8f9795088cba"
      },
      "outputs": [
        {
          "output_type": "stream",
          "name": "stdout",
          "text": [
            "Lista de notas:\n",
            "Participante 1: [8, 3, 0]\n",
            "Participante 2: [9, 9, 10]\n",
            "Participante 3: [8, 10, 7]\n",
            "A distância euclidiana entre participante 1 e participante 2 é: 11.704699910719626\n",
            "A distância euclidiana entre participante 1 e participante 3 é: 9.899494936611665\n",
            "A distância euclidiana entre participante 2 e participante 3 é: 3.3166247903554\n"
          ]
        }
      ],
      "source": [
        "import random\n",
        "from math import sqrt\n",
        "\n",
        "# Estrutura de dados\n",
        "participantes = [1, 2, 3]\n",
        "filmes = [\"Dragon Ball\", \"Pokemon\", \"Yu-Gi-Oh!\"]\n",
        "\n",
        "# Criar a lista de listas de notas com valores aleatórios entre 0 e 10\n",
        "lista_notas = [[random.randint(0, 10) for _ in range(len(filmes))] for _ in range(len(participantes))]\n",
        "\n",
        "# Função para calcular a distância entre duas linhas (participantes)\n",
        "def calcular_distancia_entre_participantes(participante1, participante2):\n",
        "    # Calcula a soma dos produtos dos quadrados das diferenças entre as notas\n",
        "    soma_quadrados_diferencas = sum((nota1 - nota2) ** 2 for nota1, nota2 in zip(participante1, participante2))\n",
        "    # Calcula a raiz quadrada da soma dos produtos\n",
        "    distancia = sqrt(soma_quadrados_diferencas)\n",
        "    return distancia\n",
        "\n",
        "# Impressão da lista de notas\n",
        "print(\"Lista de notas:\")\n",
        "for i, participante in enumerate(participantes):\n",
        "    print(f\"Participante {participante}: {lista_notas[i]}\")\n",
        "\n",
        "# Comparar as notas e exibir os resultados\n",
        "for i in range(len(participantes)):\n",
        "    for j in range(i + 1, len(participantes)):\n",
        "        distancia = calcular_distancia_entre_participantes(lista_notas[i], lista_notas[j])\n",
        "        print(f\"A distância euclidiana entre participante {participantes[i]} e participante {participantes[j]} é: {distancia}\")\n",
        "\n",
        "# Assert\n",
        "notas_participante1 = [5, 8, 7]\n",
        "notas_participante2 = [2, 5, 4]\n",
        "distancia_assert = calcular_distancia_entre_participantes(notas_participante1, notas_participante2)\n",
        "assert round(distancia_assert, 3) == 5.196  # Arredondado para 9 casas decimais de acordo com o valor fornecido\n"
      ]
    },
    {
      "cell_type": "code",
      "source": [
        "import random\n",
        "from math import sqrt\n",
        "\n",
        "# Estrutura de dados\n",
        "participantes = [\"Alice\", \"Bob\", \"Carol\"]\n",
        "filmes = [\"Dragon Ball\", \"Pokemon\", \"Yu-Gi-Oh!\"]\n",
        "\n",
        "# Criar a matriz de notas com valores aleatórios entre 0 e 10\n",
        "matriz_notas = [[random.randint(0, 10) for _ in range(len(filmes))] for _ in range(len(participantes))]\n",
        "\n",
        "# Função para calcular a distância entre duas linhas (participantes)\n",
        "def calcular_distancia_entre_participantes(participante1, participante2):\n",
        "    # Calcula a soma dos produtos dos quadrados das diferenças entre as notas\n",
        "    soma_quadrados_diferencas = sum((nota1 - nota2) ** 2 for nota1, nota2 in zip(participante1, participante2))\n",
        "    # Calcula a raiz quadrada da soma dos produtos\n",
        "    distancia = sqrt(soma_quadrados_diferencas)\n",
        "    return distancia\n",
        "\n",
        "# Impressão da matriz de notas\n",
        "print(\"Matriz de notas:\")\n",
        "print(\"Participante\", end=\"\\t\")\n",
        "for filme in filmes:\n",
        "    print(filme, end=\"\\t\")\n",
        "print()\n",
        "for i in range(len(participantes)):\n",
        "    print(participantes[i], end=\"\\t\")\n",
        "    for j in range(len(filmes)):\n",
        "        print(matriz_notas[i][j], end=\"\\t\")\n",
        "    print()\n",
        "\n",
        "# Comparar as notas e exibir os resultados\n",
        "for i in range(len(participantes)):\n",
        "    for j in range(i + 1, len(participantes)):\n",
        "        distancia = calcular_distancia_entre_participantes(matriz_notas[i], matriz_notas[j])\n",
        "        print(f\"A proximidade entre {participantes[i]} e {participantes[j]} é: {distancia}\")\n",
        "\n",
        "# Assert\n",
        "notas_participante1 = [5, 8, 7]\n",
        "notas_participante2 = [2, 5, 4]\n",
        "distancia_assert = calcular_distancia_entre_participantes(notas_participante1, notas_participante2)\n",
        "assert round(distancia_assert, 3) == 5.196  # Arredondado para 9 casas decimais de acordo com o valor fornecido\n",
        "\n"
      ],
      "metadata": {
        "colab": {
          "base_uri": "https://localhost:8080/"
        },
        "id": "cxQhy-vuNIAk",
        "outputId": "c10815bb-b348-4881-f674-9d85007b6434"
      },
      "execution_count": 4,
      "outputs": [
        {
          "output_type": "stream",
          "name": "stdout",
          "text": [
            "Matriz de notas:\n",
            "Participante\tDragon Ball\tPokemon\tYu-Gi-Oh!\t\n",
            "Alice\t2\t3\t3\t\n",
            "Bob\t10\t10\t5\t\n",
            "Carol\t2\t2\t6\t\n",
            "A proximidade entre Alice e Bob é: 10.816653826391969\n",
            "A proximidade entre Alice e Carol é: 3.1622776601683795\n",
            "A proximidade entre Bob e Carol é: 11.357816691600547\n"
          ]
        }
      ]
    },
    {
      "cell_type": "code",
      "source": [
        "import numpy as np\n",
        "\n",
        "# Nomes dos participantes e filmes\n",
        "participantes = [\"Alice\", \"Bob\", \"Carol\"]\n",
        "filmes = [\"Dragon Ball\", \"Pokemon\", \"Yu-Gi-Oh!\"]\n",
        "\n",
        "# Criar a matriz de notas com valores aleatórios entre 0 e 10\n",
        "matriz_notas = np.random.randint(0, 11, size=(len(participantes), len(filmes)))\n",
        "\n",
        "# Imprimir a matriz com os nomes de linhas e colunas\n",
        "print(\"Matriz de notas:\")\n",
        "print(\"{:<15}\".format(\"\"), end=\"\")\n",
        "for filme in filmes:\n",
        "    print(\"{:<15}\".format(filme), end=\"\")\n",
        "print()\n",
        "for i, participante in enumerate(participantes):\n",
        "    print(\"{:<15}\".format(participante), end=\"\")\n",
        "    for j in range(len(filmes)):\n",
        "        print(\"{:<15}\".format(matriz_notas[i][j]), end=\"\")\n",
        "    print()\n",
        "\n",
        "# Comparar as notas e exibir os resultados\n",
        "for i in range(len(participantes)):\n",
        "    for j in range(i + 1, len(participantes)):\n",
        "        distancia = calcular_distancia_entre_participantes(matriz_notas[i], matriz_notas[j])\n",
        "        print(f\"A distância euclidiana entre {participantes[i]} e {participantes[j]} é: {distancia}\")\n",
        "\n",
        "# Assert\n",
        "notas_participante1 = [5, 8, 7]\n",
        "notas_participante2 = [2, 5, 4]\n",
        "distancia_assert = calcular_distancia_entre_participantes(notas_participante1, notas_participante2)\n",
        "assert round(distancia_assert, 3) == 5.196  # Arredondado para 3 casas decimais de acordo com o valor fornecido\n",
        "\n"
      ],
      "metadata": {
        "colab": {
          "base_uri": "https://localhost:8080/"
        },
        "id": "cxLmW9_WIMNk",
        "outputId": "8dd37ffd-edc5-42ff-f792-4d83aab7cf0c"
      },
      "execution_count": 18,
      "outputs": [
        {
          "output_type": "stream",
          "name": "stdout",
          "text": [
            "Matriz de notas:\n",
            "               Dragon Ball    Pokemon        Yu-Gi-Oh!      \n",
            "Alice          5              4              10             \n",
            "Bob            10             4              5              \n",
            "Carol          7              10             8              \n",
            "A distância euclidiana entre Alice e Bob é: 7.0710678118654755\n",
            "A distância euclidiana entre Alice e Carol é: 6.6332495807108\n",
            "A distância euclidiana entre Bob e Carol é: 7.3484692283495345\n"
          ]
        }
      ]
    }
  ]
}